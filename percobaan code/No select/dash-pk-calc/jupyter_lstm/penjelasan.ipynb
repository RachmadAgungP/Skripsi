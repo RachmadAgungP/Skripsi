{
 "nbformat": 4,
 "nbformat_minor": 2,
 "metadata": {
  "language_info": {
   "name": "python",
   "codemirror_mode": {
    "name": "ipython",
    "version": 3
   },
   "version": "3.7.4-final"
  },
  "orig_nbformat": 2,
  "file_extension": ".py",
  "mimetype": "text/x-python",
  "name": "python",
  "npconvert_exporter": "python",
  "pygments_lexer": "ipython3",
  "version": 3,
  "kernelspec": {
   "name": "python3",
   "display_name": "Python 3"
  }
 },
 "cells": [
  {
   "cell_type": "markdown",
   "metadata": {},
   "source": [
    "# Membaca data"
   ],
   "execution_count": null,
   "outputs": []
  },
  {
   "cell_type": "code",
   "execution_count": 1,
   "metadata": {},
   "outputs": [
    {
     "output_type": "stream",
     "name": "stdout",
     "text": "training_data  [[2.0140109e+07 1.4100000e+04]\n [2.0140110e+07 1.4900000e+04]\n [2.0140113e+07 1.5525000e+04]\n ...\n [2.0200106e+07 1.2275000e+04]\n [2.0200107e+07 1.2300000e+04]\n [2.0200108e+07 1.2000000e+04]]\n"
    }
   ],
   "source": [
    "import read_data \n",
    "\n",
    "DataSahamStr = 'SMGRW.csv'\n",
    "\n",
    "read = read_data.readData(DataSahamStr)"
   ]
  },
  {
   "cell_type": "markdown",
   "metadata": {},
   "source": [
    "# Inisial variable untuk input LSTM"
   ],
   "execution_count": null,
   "outputs": []
  },
  {
   "cell_type": "code",
   "execution_count": 2,
   "metadata": {},
   "outputs": [
    {
     "output_type": "stream",
     "name": "stdout",
     "text": "Panjang memory(sequenceLength) adalah 5\nbanyak epoch adalah 10\nLearnig rate adalah 10\n"
    }
   ],
   "source": [
    "I_SequenceLength = 5\n",
    "# I_SequenceLength = int(input(\"masukkan panjang memory: \"))\n",
    "print (\"Panjang memory(sequenceLength) adalah %s\" %I_SequenceLength)\n",
    "sequenceLength = I_SequenceLength\n",
    "\n",
    "numEpochs = 10\n",
    "# numEpochs = int(input(\"masukkan banyak epoch : \"))\n",
    "print (\"banyak epoch adalah %s\" %numEpochs)\n",
    "\n",
    "data_saham_Normalisasi = read[0]\n",
    "\n",
    "rate = 0.5\n",
    "# rate = float(input(\"masukkan learning rate : \"))\n",
    "print (\"Learnig rate adalah %s\" %numEpochs)"
   ]
  },
  {
   "cell_type": "markdown",
   "metadata": {},
   "source": [
    "# Persiapan Data "
   ]
  },
  {
   "cell_type": "code",
   "execution_count": 5,
   "metadata": {},
   "outputs": [
    {
     "output_type": "stream",
     "name": "stdout",
     "text": "banyak data training :  999\nbanyak data testing :  500\n"
    }
   ],
   "source": [
    "skenarioI = 2\n",
    "# skenarioI = int(input(\"masukkan skenario pilihan : \"))\n",
    "\n",
    "skenarioP = read_data.bagi_data(skenarioI,data_saham_Normalisasi)\n",
    "print (\"banyak data training : \",len(skenarioP[0]))\n",
    "training_Data = skenarioP[0]\n",
    "print (\"banyak data testing : \",len(skenarioP[1]))\n",
    "testing_Data = skenarioP[1]"
   ]
  },
  {
   "cell_type": "markdown",
   "metadata": {},
   "source": [
    "## Penggabungan data normalisasi dengan  variable penampungan"
   ]
  },
  {
   "cell_type": "code",
   "execution_count": 6,
   "metadata": {},
   "outputs": [],
   "source": [
    "import numpy as np\n",
    "corpusData = np.concatenate((np.ones((data_saham_Normalisasi.shape[0], 1)), data_saham_Normalisasi), axis=1)"
   ]
  },
  {
   "cell_type": "markdown",
   "metadata": {},
   "source": [
    "# LSTM"
   ]
  },
  {
   "cell_type": "code",
   "execution_count": 7,
   "metadata": {},
   "outputs": [],
   "source": [
    "import LSTM\n",
    "ukuran_input = corpusData.shape[1]\n",
    "ukuran_output = corpusData.shape[1]-2\n",
    "lstm = LSTM.LSTMCell(ukuran_input, ukuran_output)"
   ]
  },
  {
   "cell_type": "markdown",
   "metadata": {},
   "source": [
    "## LSTM Training"
   ]
  },
  {
   "cell_type": "code",
   "execution_count": null,
   "metadata": {},
   "outputs": [],
   "source": [
    "\n",
    "lstm.train(training_Data, numEpochs, rate, sequenceLength, max_ex, min_ex) \n",
    "# data training, numEpochs, learningRate, sequenceLength, max, min \n",
    "# diprint ('Epoch ' + str(epoch) + ' error: ' + str(epochError / counter))"
   ]
  },
  {
   "cell_type": "markdown",
   "metadata": {},
   "source": [
    "## LSTM Testing"
   ]
  },
  {
   "cell_type": "code",
   "execution_count": null,
   "metadata": {},
   "outputs": [],
   "source": [
    "# Memotong data sesuai dengan panjang data atau squeneLength\n",
    "forecastSequences = forecastSequenceProducer(testing_Data, sequenceLength)\n",
    "\n",
    "# Data Real\n",
    "labels = []\n",
    "\n",
    "# Data Preiksi\n",
    "forecasts = []\n",
    "\n",
    "data_full_csv = {}\n",
    "data_perhitungan = pd.DataFrame(data_full_csv) # df \n",
    "\n",
    "for sequence in forecastSequences: \n",
    "        countForecasts += 1\n",
    "        forecast  = lstm.forecast(sequence[:-1])\n",
    "        R  = forecast[-1]\n",
    "        # print (\"squence predict \",R)\n",
    "        V_Predict = forecast[0]\n",
    "        V_Predict *= max_ex[1:]\n",
    "        V_Predict += min_ex[1:]\n",
    "        data_sequence_close_NT = sequence[:,2:]\n",
    "        sequenceNT = denormal(sequenceLength,sequence,max_ex,min_ex)\n",
    "\n",
    "        # block proses\n",
    "        list_table_hitung = [forecast[1].tolist(),forecast[2].tolist(),forecast[3].tolist(),forecast[4].tolist(),forecast[5].tolist(),forecast[6].tolist(),forecast[7].tolist(),forecast[8].tolist(),forecast[9].tolist()]\n",
    "        \n",
    "        list_table_hitung_str = [\"I\",\"Z\",\"C\",\"O\",\"F\",\"I_in\",\"C_bar\",\"h\",\"W\"]\n",
    "        # dimaukkan ke excel \n",
    "        data_perhitungan_new = ex_excel(list_table_hitung,list_table_hitung_str)\n",
    "        data_perhitungan = pd.concat([data_perhitungan_new, data_perhitungan]).reset_index(drop = True) \n",
    "        \n",
    "        # ----------------------------------------------------------------------------------\n",
    "\n",
    "        label = sequence[-1,2:] * max_ex[1:]\n",
    "        label += min_ex[1:]\n",
    "\n",
    "        forecasts.append(V_Predict)\n",
    "\n",
    "        labels.append(label)\n",
    "\n",
    "        print('Error: ' + str(np.absolute( label[-1]-V_Predict[-1] )))\n",
    "\n",
    "        forecastError += np.absolute(label[-1]-V_Predict[-1])\n",
    "        \n",
    "        forecastError_MSE += (np.absolute(label[-1]-V_Predict[-1]))**2\n",
    "        \n",
    "        # print_sequence(sequence,max_ex,min_ex)\n",
    "\n",
    "        print ('----------------')\n",
    "    \n",
    "    data_perhitungan.to_csv(\"datatata.csv\") # block preses"
   ]
  }
 ]
}